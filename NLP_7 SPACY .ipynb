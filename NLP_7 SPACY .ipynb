{
 "cells": [
  {
   "cell_type": "markdown",
   "metadata": {
    "colab_type": "text",
    "id": "view-in-github"
   },
   "source": [
    "### 17BCE0740"
   ]
  },
  {
   "cell_type": "markdown",
   "metadata": {},
   "source": [
    "## SPACY"
   ]
  },
  {
   "cell_type": "code",
   "execution_count": 1,
   "metadata": {
    "colab": {
     "base_uri": "https://localhost:8080/",
     "height": 392
    },
    "id": "Suz15zSUOMlW",
    "outputId": "8be00833-7dfd-4bf9-9995-9c4af433aed6"
   },
   "outputs": [
    {
     "name": "stdout",
     "output_type": "stream",
     "text": [
      "Collecting https://github.com/explosion/spacy-models/releases/download/en_core_web_sm-2.2.0/en_core_web_sm-2.2.0.tar.gzNote: you may need to restart the kernel to use updated packages.\n",
      "\n",
      "  Downloading https://github.com/explosion/spacy-models/releases/download/en_core_web_sm-2.2.0/en_core_web_sm-2.2.0.tar.gz (12.0 MB)\n",
      "Requirement already satisfied (use --upgrade to upgrade): en-core-web-sm==2.2.0 from https://github.com/explosion/spacy-models/releases/download/en_core_web_sm-2.2.0/en_core_web_sm-2.2.0.tar.gz in c:\\users\\shobi\\appdata\\local\\programs\\python\\python38\\lib\\site-packages\n",
      "Requirement already satisfied: spacy>=2.2.0 in c:\\users\\shobi\\appdata\\local\\programs\\python\\python38\\lib\\site-packages (from en-core-web-sm==2.2.0) (2.3.2)\n",
      "Requirement already satisfied: setuptools in c:\\users\\shobi\\appdata\\local\\programs\\python\\python38\\lib\\site-packages (from spacy>=2.2.0->en-core-web-sm==2.2.0) (41.2.0)\n",
      "Requirement already satisfied: cymem<2.1.0,>=2.0.2 in c:\\users\\shobi\\appdata\\local\\programs\\python\\python38\\lib\\site-packages (from spacy>=2.2.0->en-core-web-sm==2.2.0) (2.0.3)\n",
      "Requirement already satisfied: blis<0.5.0,>=0.4.0 in c:\\users\\shobi\\appdata\\local\\programs\\python\\python38\\lib\\site-packages (from spacy>=2.2.0->en-core-web-sm==2.2.0) (0.4.1)\n",
      "Requirement already satisfied: wasabi<1.1.0,>=0.4.0 in c:\\users\\shobi\\appdata\\local\\programs\\python\\python38\\lib\\site-packages (from spacy>=2.2.0->en-core-web-sm==2.2.0) (0.8.0)\n",
      "Requirement already satisfied: srsly<1.1.0,>=1.0.2 in c:\\users\\shobi\\appdata\\local\\programs\\python\\python38\\lib\\site-packages (from spacy>=2.2.0->en-core-web-sm==2.2.0) (1.0.2)\n",
      "Requirement already satisfied: tqdm<5.0.0,>=4.38.0 in c:\\users\\shobi\\appdata\\local\\programs\\python\\python38\\lib\\site-packages (from spacy>=2.2.0->en-core-web-sm==2.2.0) (4.46.0)\n",
      "Requirement already satisfied: plac<1.2.0,>=0.9.6 in c:\\users\\shobi\\appdata\\local\\programs\\python\\python38\\lib\\site-packages (from spacy>=2.2.0->en-core-web-sm==2.2.0) (1.1.3)\n",
      "Requirement already satisfied: murmurhash<1.1.0,>=0.28.0 in c:\\users\\shobi\\appdata\\local\\programs\\python\\python38\\lib\\site-packages (from spacy>=2.2.0->en-core-web-sm==2.2.0) (1.0.2)\n",
      "Requirement already satisfied: requests<3.0.0,>=2.13.0 in c:\\users\\shobi\\appdata\\local\\programs\\python\\python38\\lib\\site-packages (from spacy>=2.2.0->en-core-web-sm==2.2.0) (2.24.0)\n",
      "Requirement already satisfied: preshed<3.1.0,>=3.0.2 in c:\\users\\shobi\\appdata\\local\\programs\\python\\python38\\lib\\site-packages (from spacy>=2.2.0->en-core-web-sm==2.2.0) (3.0.2)\n",
      "Requirement already satisfied: numpy>=1.15.0 in c:\\users\\shobi\\appdata\\local\\programs\\python\\python38\\lib\\site-packages (from spacy>=2.2.0->en-core-web-sm==2.2.0) (1.18.5)\n",
      "Requirement already satisfied: thinc==7.4.1 in c:\\users\\shobi\\appdata\\local\\programs\\python\\python38\\lib\\site-packages (from spacy>=2.2.0->en-core-web-sm==2.2.0) (7.4.1)\n",
      "Requirement already satisfied: catalogue<1.1.0,>=0.0.7 in c:\\users\\shobi\\appdata\\local\\programs\\python\\python38\\lib\\site-packages (from spacy>=2.2.0->en-core-web-sm==2.2.0) (1.0.0)\n",
      "Requirement already satisfied: idna<3,>=2.5 in c:\\users\\shobi\\appdata\\local\\programs\\python\\python38\\lib\\site-packages (from requests<3.0.0,>=2.13.0->spacy>=2.2.0->en-core-web-sm==2.2.0) (2.10)\n",
      "Requirement already satisfied: urllib3!=1.25.0,!=1.25.1,<1.26,>=1.21.1 in c:\\users\\shobi\\appdata\\local\\programs\\python\\python38\\lib\\site-packages (from requests<3.0.0,>=2.13.0->spacy>=2.2.0->en-core-web-sm==2.2.0) (1.25.10)\n",
      "Requirement already satisfied: certifi>=2017.4.17 in c:\\users\\shobi\\appdata\\local\\programs\\python\\python38\\lib\\site-packages (from requests<3.0.0,>=2.13.0->spacy>=2.2.0->en-core-web-sm==2.2.0) (2020.6.20)\n",
      "Requirement already satisfied: chardet<4,>=3.0.2 in c:\\users\\shobi\\appdata\\local\\programs\\python\\python38\\lib\\site-packages (from requests<3.0.0,>=2.13.0->spacy>=2.2.0->en-core-web-sm==2.2.0) (3.0.4)\n",
      "Building wheels for collected packages: en-core-web-sm\n",
      "  Building wheel for en-core-web-sm (setup.py): started\n",
      "  Building wheel for en-core-web-sm (setup.py): finished with status 'done'\n",
      "  Created wheel for en-core-web-sm: filename=en_core_web_sm-2.2.0-py3-none-any.whl size=12019126 sha256=9ba12d9f68cda4f40de3789ff643912b3003adb8f55df58cfe7e1ee9384cb85d\n",
      "  Stored in directory: c:\\users\\shobi\\appdata\\local\\pip\\cache\\wheels\\fc\\31\\e9\\092e6f05b2817c9cb45804a3d1bf2b9bf6575742c01819337c\n",
      "Successfully built en-core-web-sm\n"
     ]
    }
   ],
   "source": [
    "pip install https://github.com/explosion/spacy-models/releases/download/en_core_web_sm-2.2.0/en_core_web_sm-2.2.0.tar.gz"
   ]
  },
  {
   "cell_type": "code",
   "execution_count": 2,
   "metadata": {
    "id": "Rl6ef86dOXMj"
   },
   "outputs": [
    {
     "name": "stderr",
     "output_type": "stream",
     "text": [
      "c:\\users\\shobi\\appdata\\local\\programs\\python\\python38\\lib\\site-packages\\spacy\\util.py:275: UserWarning: [W031] Model 'en_core_web_sm' (2.2.0) requires spaCy v2.2 and is incompatible with the current spaCy version (2.3.2). This may lead to unexpected results or runtime errors. To resolve this, download a newer compatible model or retrain your custom model with the current spaCy version. For more details and available updates, run: python -m spacy validate\n",
      "  warnings.warn(warn_msg)\n"
     ]
    }
   ],
   "source": [
    "import spacy\n",
    "\n",
    "spacy.prefer_gpu()\n",
    "nlp = spacy.load(\"en_core_web_sm\")"
   ]
  },
  {
   "cell_type": "code",
   "execution_count": 10,
   "metadata": {},
   "outputs": [],
   "source": [
    "import spacy"
   ]
  },
  {
   "cell_type": "markdown",
   "metadata": {},
   "source": [
    "### Example 1\n",
    "\n"
   ]
  },
  {
   "cell_type": "code",
   "execution_count": 16,
   "metadata": {},
   "outputs": [],
   "source": [
    "example=\"shobit swathi sharmila anuj aditya island sristi \"\n"
   ]
  },
  {
   "cell_type": "code",
   "execution_count": 20,
   "metadata": {},
   "outputs": [
    {
     "data": {
      "text/plain": [
       "shobit swathi sharmila anuj aditya island sristi "
      ]
     },
     "execution_count": 20,
     "metadata": {},
     "output_type": "execute_result"
    }
   ],
   "source": [
    "doc2 = nlp(example)\n",
    "doc2"
   ]
  },
  {
   "cell_type": "code",
   "execution_count": 21,
   "metadata": {},
   "outputs": [
    {
     "name": "stdout",
     "output_type": "stream",
     "text": [
      "shobit swathi PERSON\n",
      "sharmila PERSON\n"
     ]
    }
   ],
   "source": [
    "for ent in doc2.ents:\n",
    "  print(ent.text, ent.label_)"
   ]
  },
  {
   "cell_type": "markdown",
   "metadata": {},
   "source": [
    "### Example 2"
   ]
  },
  {
   "cell_type": "code",
   "execution_count": 22,
   "metadata": {
    "id": "epLb64XXQ9z4"
   },
   "outputs": [],
   "source": [
    "example1 = \"Established in 1897, the Godrej Group has its roots in India's Independence and Swadeshi movement. Our founder, Ardeshir Godrej, lawyer-turned-serial entrepreneur failed with a few ventures, before he struck gold with a locks business.Today, we enjoy the patronage of 1.1 billion consumers globally across consumer goods, real estate, appliances, agriculture and many other businesses. In fact, our geographical footprint extends beyond Earth, with our engines now powering many of India's space missions.With a revenue of over USD 4.1 billion we are growing fast, and have exciting, ambitious aspirations.But for us, it is most important that besides our strong financial performance and innovative, much-loved products, we remain a good company. Approximately 23 per cent of the promoter holding in the Godrej Group is held in trusts that invest in the environment, health and education. We are also bringing together our passion and purpose to make a difference through our Good & Green strategy of 'shared value' to create a more inclusive and greener India.At the heart of all of this, is our people. We take much pride in fostering an inspiring workplace, with an agile and high-performance culture. We are also deeply committed to recognising and valuing diversity across our teams.\""
   ]
  },
  {
   "cell_type": "code",
   "execution_count": 23,
   "metadata": {
    "colab": {
     "base_uri": "https://localhost:8080/",
     "height": 55
    },
    "id": "9P8ZSy0TR9cr",
    "outputId": "ed444cb1-36b5-43fa-91df-688b704f1a08"
   },
   "outputs": [
    {
     "data": {
      "text/plain": [
       "Established in 1897, the Godrej Group has its roots in India's Independence and Swadeshi movement. Our founder, Ardeshir Godrej, lawyer-turned-serial entrepreneur failed with a few ventures, before he struck gold with a locks business.Today, we enjoy the patronage of 1.1 billion consumers globally across consumer goods, real estate, appliances, agriculture and many other businesses. In fact, our geographical footprint extends beyond Earth, with our engines now powering many of India's space missions.With a revenue of over USD 4.1 billion we are growing fast, and have exciting, ambitious aspirations.But for us, it is most important that besides our strong financial performance and innovative, much-loved products, we remain a good company. Approximately 23 per cent of the promoter holding in the Godrej Group is held in trusts that invest in the environment, health and education. We are also bringing together our passion and purpose to make a difference through our Good & Green strategy of 'shared value' to create a more inclusive and greener India.At the heart of all of this, is our people. We take much pride in fostering an inspiring workplace, with an agile and high-performance culture. We are also deeply committed to recognising and valuing diversity across our teams."
      ]
     },
     "execution_count": 23,
     "metadata": {},
     "output_type": "execute_result"
    }
   ],
   "source": [
    "doc1 = nlp(example1)\n",
    "doc1"
   ]
  },
  {
   "cell_type": "code",
   "execution_count": 24,
   "metadata": {
    "colab": {
     "base_uri": "https://localhost:8080/",
     "height": 852
    },
    "id": "rVEMzzHxSy7s",
    "outputId": "efe51607-8485-4e87-e91d-8feb0a49f90c"
   },
   "outputs": [
    {
     "name": "stdout",
     "output_type": "stream",
     "text": [
      "1897 DATE\n",
      "the Godrej Group ORG\n",
      "India GPE\n",
      "Independence and Swadeshi ORG\n",
      "Ardeshir Godrej PERSON\n",
      "Today DATE\n",
      "1.1 billion CARDINAL\n",
      "Earth LOC\n",
      "India GPE\n",
      "Approximately 23 per cent MONEY\n",
      "the Godrej Group ORG\n",
      "Good & Green ORG\n",
      "India GPE\n"
     ]
    }
   ],
   "source": [
    "for ent in doc1.ents:\n",
    "  print(ent.text, ent.label_)"
   ]
  },
  {
   "cell_type": "markdown",
   "metadata": {},
   "source": [
    "### Example 3"
   ]
  },
  {
   "cell_type": "code",
   "execution_count": 25,
   "metadata": {
    "colab": {
     "base_uri": "https://localhost:8080/",
     "height": 55
    },
    "id": "HwW6THfnTLFI",
    "outputId": "eb35cf0a-2a90-4181-9c49-09501dcf4456"
   },
   "outputs": [
    {
     "data": {
      "text/plain": [
       "Millie Bobby Brown (born 19 February 2004)[1] is an English actress and producer.[2] She rose to prominence for her role as Eleven in the Netflix science fiction series Stranger Things (2016–present),[3] for which she received Primetime Emmy Award nominations for Outstanding Supporting Actress in a Drama Series.[4] She starred in and produced the mystery film Enola Holmes (2020) and starred in the monster film Godzilla: King of the Monsters (2019). In 2018, she was featured in the Time 100 list of the world's most influential people[5] and is the youngest person to be appointed a UNICEF Goodwill Ambassador. Brown was born in Marbella, Málaga, Andalusia, Spain,[6] the third of four children of English parents, Kelly and Robert Brown.[7] The family moved to Bournemouth, Dorset, when she was around four years old, then to Windermere, Florida, four years later.[8][9] She was born with partial hearing in one ear, gradually losing all hearing in that ear over several years.In 2013, Brown made her acting debut as a guest star in the ABC fantasy drama series Once Upon a Time in Wonderland, a spin-off of Once Upon a Time, portraying the role of Young Alice. In 2014, she had a starring role in the BBC America paranormal drama-thriller series Intruders as Madison O'Donnell.[11] She then made guest appearances in the CBS police procedural drama NCIS, the ABC sitcom Modern Family, and the ABC medical drama series Grey's Anatomy."
      ]
     },
     "execution_count": 25,
     "metadata": {},
     "output_type": "execute_result"
    }
   ],
   "source": [
    "exapmle2 = \"Millie Bobby Brown (born 19 February 2004)[1] is an English actress and producer.[2] She rose to prominence for her role as Eleven in the Netflix science fiction series Stranger Things (2016–present),[3] for which she received Primetime Emmy Award nominations for Outstanding Supporting Actress in a Drama Series.[4] She starred in and produced the mystery film Enola Holmes (2020) and starred in the monster film Godzilla: King of the Monsters (2019). In 2018, she was featured in the Time 100 list of the world's most influential people[5] and is the youngest person to be appointed a UNICEF Goodwill Ambassador. Brown was born in Marbella, Málaga, Andalusia, Spain,[6] the third of four children of English parents, Kelly and Robert Brown.[7] The family moved to Bournemouth, Dorset, when she was around four years old, then to Windermere, Florida, four years later.[8][9] She was born with partial hearing in one ear, gradually losing all hearing in that ear over several years.In 2013, Brown made her acting debut as a guest star in the ABC fantasy drama series Once Upon a Time in Wonderland, a spin-off of Once Upon a Time, portraying the role of Young Alice. In 2014, she had a starring role in the BBC America paranormal drama-thriller series Intruders as Madison O'Donnell.[11] She then made guest appearances in the CBS police procedural drama NCIS, the ABC sitcom Modern Family, and the ABC medical drama series Grey's Anatomy.\"\n",
    "doc2 = nlp(exapmle2)\n",
    "doc2"
   ]
  },
  {
   "cell_type": "code",
   "execution_count": 26,
   "metadata": {
    "colab": {
     "base_uri": "https://localhost:8080/",
     "height": 835
    },
    "id": "o9MQ2uT2Ttz7",
    "outputId": "218e2e20-19d1-448d-e772-851f656ed2d6"
   },
   "outputs": [
    {
     "name": "stdout",
     "output_type": "stream",
     "text": [
      "Millie Bobby Brown PERSON\n",
      "19 CARDINAL\n",
      "English LANGUAGE\n",
      "Eleven FAC\n",
      "Netflix GPE\n",
      "2016–present),[3 CARDINAL\n",
      "2020 DATE\n",
      "Godzilla PERSON\n",
      "2018 DATE\n",
      "100 CARDINAL\n",
      "Brown PERSON\n",
      "Marbella GPE\n",
      "Málaga NORP\n",
      "Andalusia GPE\n",
      "third ORDINAL\n",
      "four CARDINAL\n",
      "English LANGUAGE\n",
      "Kelly PERSON\n",
      "Robert PERSON\n",
      "Bournemouth GPE\n",
      "Dorset ORG\n",
      "around four years old DATE\n",
      "Windermere GPE\n",
      "Florida GPE\n",
      "four years DATE\n",
      "later.[8][9 PERSON\n",
      "one CARDINAL\n",
      "several years DATE\n",
      "2013 DATE\n",
      "Brown PERSON\n",
      "ABC ORG\n",
      "Wonderland GPE\n",
      "Young Alice ORG\n",
      "2014 DATE\n",
      "BBC America LOC\n",
      "Madison O'Donnell.[11 PERSON\n",
      "CBS ORG\n",
      "ABC ORG\n",
      "Modern Family PERSON\n",
      "ABC ORG\n",
      "Grey PERSON\n"
     ]
    }
   ],
   "source": [
    "for ent in doc2.ents:\n",
    "  print(ent.text, ent.label_)"
   ]
  },
  {
   "cell_type": "markdown",
   "metadata": {},
   "source": [
    "### Querying"
   ]
  },
  {
   "cell_type": "code",
   "execution_count": 9,
   "metadata": {
    "colab": {
     "base_uri": "https://localhost:8080/",
     "height": 35
    },
    "id": "y0EIVundV0tK",
    "outputId": "7645fd64-636a-4ed2-d925-c35ea2a704ca"
   },
   "outputs": [
    {
     "data": {
      "text/plain": [
       "['Georgia-Pacific']"
      ]
     },
     "execution_count": 9,
     "metadata": {},
     "output_type": "execute_result"
    }
   ],
   "source": [
    "\n",
    "locs = [(\"Omnicon\",\"IN\", \"New York\"),(\"Georgia-Pacific\",\"IN\",\"Atlanta\"),(\"DOB Needhan\",\"IN\",\"New York\")]\n",
    "query = [e1 for(e1, rel, e2) in locs if e2 == \"Atlanta\"]\n",
    "query"
   ]
  }
 ],
 "metadata": {
  "colab": {
   "authorship_tag": "ABX9TyND/pkTVRjp01HDNLXfjSl9",
   "collapsed_sections": [],
   "include_colab_link": true,
   "name": "Untitled3.ipynb",
   "provenance": []
  },
  "kernelspec": {
   "display_name": "Python 3",
   "language": "python",
   "name": "python3"
  },
  "language_info": {
   "codemirror_mode": {
    "name": "ipython",
    "version": 3
   },
   "file_extension": ".py",
   "mimetype": "text/x-python",
   "name": "python",
   "nbconvert_exporter": "python",
   "pygments_lexer": "ipython3",
   "version": "3.8.3"
  }
 },
 "nbformat": 4,
 "nbformat_minor": 1
}
